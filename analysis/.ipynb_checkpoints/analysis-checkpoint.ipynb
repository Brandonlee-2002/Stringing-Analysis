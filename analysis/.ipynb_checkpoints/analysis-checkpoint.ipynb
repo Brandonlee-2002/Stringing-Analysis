{
 "cells": [
  {
   "cell_type": "markdown",
   "id": "51fb67c8-9351-493d-8a7b-dec84a32be5c",
   "metadata": {},
   "source": [
    "# Badminton Racket Restringing Data Analysis\n",
    "### Objective:\n",
    "- Analyze racket-string combinations to view player preferences \n",
    "- Explore tension distributions\n",
    "- Identify Outliers \n",
    "\n",
    "### Dataset Information:\n",
    "- **NameID**: Unique ID for each player\n",
    "- **Racket** & **String**: Equipment used. Ex: AX88D Pro & BG66UM\n",
    "- **Tension**: String Tension in lbs\n",
    "\n"
   ]
  },
  {
   "cell_type": "code",
   "execution_count": null,
   "id": "730f4d87-5352-4e27-a5fe-9df47d04c7e9",
   "metadata": {},
   "outputs": [],
   "source": []
  }
 ],
 "metadata": {
  "kernelspec": {
   "display_name": "Python 3 (ipykernel)",
   "language": "python",
   "name": "python3"
  },
  "language_info": {
   "codemirror_mode": {
    "name": "ipython",
    "version": 3
   },
   "file_extension": ".py",
   "mimetype": "text/x-python",
   "name": "python",
   "nbconvert_exporter": "python",
   "pygments_lexer": "ipython3",
   "version": "3.12.5"
  }
 },
 "nbformat": 4,
 "nbformat_minor": 5
}
